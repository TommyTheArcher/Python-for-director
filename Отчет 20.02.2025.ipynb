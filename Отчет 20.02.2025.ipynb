{
 "cells": [
  {
   "cell_type": "code",
   "execution_count": null,
   "id": "7576a14f-3080-48d6-b1be-dfd1638c1fb6",
   "metadata": {},
   "outputs": [],
   "source": [
    "№1 вычислить неопределенные интегралы"
   ]
  },
  {
   "cell_type": "code",
   "execution_count": 8,
   "id": "6e3c9924-7d34-4812-9f18-e8e743fbaab9",
   "metadata": {},
   "outputs": [],
   "source": [
    "import sympy as sp\n",
    "from sympy import symbols, integrate"
   ]
  },
  {
   "cell_type": "code",
   "execution_count": 12,
   "id": "df9045d4-3768-4e48-b7a4-4463aa2a2e7c",
   "metadata": {},
   "outputs": [
    {
     "name": "stdout",
     "output_type": "stream",
     "text": [
      "неопределённый интеграл:\n",
      " 3           \n",
      "x     2      \n",
      "── - x  + 3⋅x\n",
      "3            \n"
     ]
    }
   ],
   "source": [
    "x = sp.Symbol('x')\n",
    "\n",
    "f = x**2 - 2*x + 3\n",
    "\n",
    "integral = sp.integrate(f, x)\n",
    "\n",
    "print(\"неопределённый интеграл:\")\n",
    "sp.pprint(integral)"
   ]
  },
  {
   "cell_type": "code",
   "execution_count": 14,
   "id": "1c1edc0c-d82c-4b43-9882-49342914bf48",
   "metadata": {},
   "outputs": [
    {
     "name": "stdout",
     "output_type": "stream",
     "text": [
      "неопределённый интеграл:\n",
      "    ⎛ 2⎞ \n",
      "-cos⎝y ⎠ \n",
      "─────────\n",
      "    2    \n"
     ]
    }
   ],
   "source": [
    "y = sp.Symbol('y')\n",
    "\n",
    "f = y * sp.sin(y**2)\n",
    "\n",
    "integral = sp.integrate(f, y)\n",
    "\n",
    "\n",
    "print(\"неопределённый интеграл:\")\n",
    "sp.pprint(integral)"
   ]
  },
  {
   "cell_type": "code",
   "execution_count": 16,
   "id": "9feb1c4e-54c9-4187-bc32-e2354b28dc79",
   "metadata": {},
   "outputs": [
    {
     "name": "stdout",
     "output_type": "stream",
     "text": [
      "неопределённый интеграл:\n",
      " 2⋅t             2⋅t       \n",
      "ℯ   ⋅sin(t)   2⋅ℯ   ⋅cos(t)\n",
      "─────────── + ─────────────\n",
      "     5              5      \n"
     ]
    }
   ],
   "source": [
    "t = sp.Symbol('t')\n",
    "\n",
    "f = sp.exp(2*t) * sp.cos(t)\n",
    "\n",
    "integral = sp.integrate(f, t)\n",
    "\n",
    "print(\"неопределённый интеграл:\")\n",
    "sp.pprint(integral)"
   ]
  },
  {
   "cell_type": "code",
   "execution_count": 36,
   "id": "6f381ac0-99a6-4401-ac9e-c52d4a39af2e",
   "metadata": {},
   "outputs": [
    {
     "ename": "SyntaxError",
     "evalue": "invalid character '№' (U+2116) (1590999033.py, line 1)",
     "output_type": "error",
     "traceback": [
      "\u001b[1;36m  Cell \u001b[1;32mIn[36], line 1\u001b[1;36m\u001b[0m\n\u001b[1;33m    №2 вычислить определенные интегралы\u001b[0m\n\u001b[1;37m    ^\u001b[0m\n\u001b[1;31mSyntaxError\u001b[0m\u001b[1;31m:\u001b[0m invalid character '№' (U+2116)\n"
     ]
    }
   ],
   "source": [
    "№2 вычислить определенные интегралы"
   ]
  },
  {
   "cell_type": "code",
   "execution_count": 58,
   "id": "b4b81b2f-8ebc-45ef-80a3-a768ee12677d",
   "metadata": {},
   "outputs": [
    {
     "name": "stdout",
     "output_type": "stream",
     "text": [
      "определённый интеграл \n",
      "-2\n"
     ]
    }
   ],
   "source": [
    "x = sp.Symbol('x')\n",
    "\n",
    "f = x**3 - 1\n",
    "# интеграл от -1 до 1\n",
    "integral = sp.integrate(f, (x, -1, 1))\n",
    "\n",
    "print(\"определённый интеграл \")\n",
    "sp.pprint(integral)"
   ]
  },
  {
   "cell_type": "code",
   "execution_count": 60,
   "id": "3e3db362-f468-4d4d-adf8-1079f2a47fc1",
   "metadata": {},
   "outputs": [
    {
     "name": "stdout",
     "output_type": "stream",
     "text": [
      "определённый интеграл \n",
      "-a + b + 2⋅log(a + 1) - 2⋅log(b + 1)\n"
     ]
    }
   ],
   "source": [
    "y = sp.Symbol('y')\n",
    "a = sp.Symbol('a')\n",
    "b = sp.Symbol('b')\n",
    "\n",
    "f = (y - 1) / (y + 1)\n",
    "# интеграл от a до b\n",
    "integral = sp.integrate(f, (y, a, b))\n",
    "\n",
    "print(\"определённый интеграл \")\n",
    "sp.pprint(integral)"
   ]
  },
  {
   "cell_type": "code",
   "execution_count": 62,
   "id": "6dfaf2ff-4997-4020-8bfa-16ecafcb42df",
   "metadata": {},
   "outputs": [
    {
     "name": "stdout",
     "output_type": "stream",
     "text": [
      "определённый интеграл \n",
      "0\n"
     ]
    }
   ],
   "source": [
    "phi = sp.Symbol('phi')\n",
    "\n",
    "f = sp.sin(2*phi)\n",
    "#интеграл от 0 до 2*pi\n",
    "integral = sp.integrate(f, (phi, 0, 2*sp.pi))\n",
    "\n",
    "print(\"определённый интеграл \")\n",
    "sp.pprint(integral)"
   ]
  },
  {
   "cell_type": "code",
   "execution_count": 64,
   "id": "b46b9172-66fa-4139-b6e8-684eb4caab79",
   "metadata": {},
   "outputs": [
    {
     "name": "stdout",
     "output_type": "stream",
     "text": [
      "определённый интеграл :\n",
      " -3\n",
      "ℯ  \n",
      "───\n",
      " 3 \n"
     ]
    }
   ],
   "source": [
    "t = sp.Symbol('t')\n",
    "\n",
    "f = sp.exp(-3*t)\n",
    "# интеграл от 1 до +∞\n",
    "integral = sp.integrate(f, (t, 1, sp.oo))\n",
    "\n",
    "# Выводим результат\n",
    "print(\"определённый интеграл :\")\n",
    "sp.pprint(integral)"
   ]
  },
  {
   "cell_type": "code",
   "execution_count": 18,
   "id": "16dfba10-3558-42ac-826b-9e580dc0ac68",
   "metadata": {},
   "outputs": [
    {
     "ename": "SyntaxError",
     "evalue": "invalid character '№' (U+2116) (152641733.py, line 1)",
     "output_type": "error",
     "traceback": [
      "\u001b[1;36m  Cell \u001b[1;32mIn[18], line 1\u001b[1;36m\u001b[0m\n\u001b[1;33m    №2 с помощью SymPy найти общее решение дифференциального уравнения и решить начальную задачу\u001b[0m\n\u001b[1;37m    ^\u001b[0m\n\u001b[1;31mSyntaxError\u001b[0m\u001b[1;31m:\u001b[0m invalid character '№' (U+2116)\n"
     ]
    }
   ],
   "source": [
    "№3 с помощью SymPy найти общее решение дифференциального уравнения и решить начальную задачу"
   ]
  },
  {
   "cell_type": "code",
   "execution_count": 48,
   "id": "7e86472a-bbdb-4ca8-ab2f-6eb1b01b233e",
   "metadata": {},
   "outputs": [
    {
     "name": "stdout",
     "output_type": "stream",
     "text": [
      "общее решение:\n",
      "y(x) = C₁ + log(x)\n",
      "\n",
      "частное решение \n",
      "y(x) = log(x) - 1\n"
     ]
    }
   ],
   "source": [
    "x = sp.Symbol('x')\n",
    "y = sp.Function('y')(x) \n",
    "\n",
    "# y' = 1/x\n",
    "eq = sp.Eq(sp.diff(y, x), 1/x) \n",
    "\n",
    "general_solution = sp.dsolve(eq)\n",
    "print(\"общее решение:\")\n",
    "sp.pprint(general_solution)\n",
    "\n",
    "# начальное условие y(1) = -1\n",
    "initial_condition = {y.subs(x, 1): -1}\n",
    "particular_solution = sp.dsolve(eq, ics=initial_condition)\n",
    "print(\"\\nчастное решение \")\n",
    "sp.pprint(particular_solution)"
   ]
  },
  {
   "cell_type": "code",
   "execution_count": 50,
   "id": "49a8ab37-9973-4bbd-b278-56f7e83a6314",
   "metadata": {},
   "outputs": [
    {
     "name": "stdout",
     "output_type": "stream",
     "text": [
      "общее решение:\n",
      "y(x) = C₁ + x + sin(x)⋅cos(x)\n",
      "\n",
      "частное решение \n",
      "y(x) = x + sin(x)⋅cos(x) - π\n"
     ]
    }
   ],
   "source": [
    "x = sp.Symbol('x')\n",
    "y = sp.Function('y')(x)\n",
    "\n",
    "# y' = 2*cos(x)^2\n",
    "eq = sp.Eq(sp.diff(y, x), 2 * sp.cos(x)**2)\n",
    "\n",
    "general_solution = sp.dsolve(eq)\n",
    "print(\"общее решение:\")\n",
    "sp.pprint(general_solution)\n",
    "\n",
    "# y(pi) = 0\n",
    "initial_condition = {y.subs(x, sp.pi): 0}\n",
    "particular_solution = sp.dsolve(eq, ics=initial_condition)\n",
    "print(\"\\nчастное решение \")\n",
    "sp.pprint(particular_solution)"
   ]
  },
  {
   "cell_type": "code",
   "execution_count": 52,
   "id": "fb6712ea-7c28-4bfc-9810-6297f364bc17",
   "metadata": {},
   "outputs": [
    {
     "name": "stdout",
     "output_type": "stream",
     "text": [
      "общее решение:\n",
      "               5/2       \n",
      "            4⋅x          \n",
      "y(x) = C₁ + ────── + 2⋅√x\n",
      "              5          \n",
      "\n",
      "частное решение \n",
      "          5/2           \n",
      "       4⋅x              \n",
      "y(x) = ────── + 2⋅√x - 3\n",
      "         5              \n"
     ]
    }
   ],
   "source": [
    "x = sp.Symbol('x')\n",
    "y = sp.Function('y')(x) \n",
    "\n",
    "# y' = (1 + 2x^2)/sqrt(x)\n",
    "eq = sp.Eq(sp.diff(y, x), (1 + 2*x**2) / sp.sqrt(x))\n",
    "\n",
    "general_solution = sp.dsolve(eq)\n",
    "print(\"общее решение:\")\n",
    "sp.pprint(general_solution)\n",
    "\n",
    "# y(1) = -1/5\n",
    "initial_condition = {y.subs(x, 1): -sp.Rational(1, 5)}\n",
    "particular_solution = sp.dsolve(eq, ics=initial_condition)\n",
    "print(\"\\nчастное решение \")\n",
    "sp.pprint(particular_solution)"
   ]
  },
  {
   "cell_type": "code",
   "execution_count": 54,
   "id": "1a56d5ac-de81-4b15-b445-4417d1c40f00",
   "metadata": {},
   "outputs": [
    {
     "name": "stdout",
     "output_type": "stream",
     "text": [
      "общее решение:\n",
      "             2           2\n",
      "            x ⋅log(x)   x \n",
      "y(x) = C₁ + ───────── - ──\n",
      "                2       4 \n",
      "\n",
      "частное решение \n",
      "        2           2    \n",
      "       x ⋅log(x)   x     \n",
      "y(x) = ───────── - ── + 1\n",
      "           2       4     \n"
     ]
    }
   ],
   "source": [
    "x = sp.Symbol('x')\n",
    "y = sp.Function('y')(x) \n",
    "\n",
    "# y' = x * ln(x)\n",
    "eq = sp.Eq(sp.diff(y, x), x * sp.ln(x))\n",
    "\n",
    "general_solution = sp.dsolve(eq)\n",
    "print(\"общее решение:\")\n",
    "sp.pprint(general_solution)\n",
    "\n",
    "# y(sqrt(e)) = 1\n",
    "initial_condition = {y.subs(x, sp.sqrt(sp.E)): 1}\n",
    "particular_solution = sp.dsolve(eq, ics=initial_condition)\n",
    "print(\"\\nчастное решение \")\n",
    "sp.pprint(particular_solution)"
   ]
  },
  {
   "cell_type": "code",
   "execution_count": null,
   "id": "b61d5685-13fb-4314-9708-fc11daa92cc7",
   "metadata": {},
   "outputs": [],
   "source": []
  }
 ],
 "metadata": {
  "kernelspec": {
   "display_name": "Python 3 (ipykernel)",
   "language": "python",
   "name": "python3"
  },
  "language_info": {
   "codemirror_mode": {
    "name": "ipython",
    "version": 3
   },
   "file_extension": ".py",
   "mimetype": "text/x-python",
   "name": "python",
   "nbconvert_exporter": "python",
   "pygments_lexer": "ipython3",
   "version": "3.12.7"
  }
 },
 "nbformat": 4,
 "nbformat_minor": 5
}
